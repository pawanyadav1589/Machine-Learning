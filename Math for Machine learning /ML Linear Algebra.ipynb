{
 "cells": [
  {
   "cell_type": "code",
   "execution_count": 2,
   "id": "47751fbc",
   "metadata": {},
   "outputs": [],
   "source": [
    "%config Completer.use_jedi = False"
   ]
  },
  {
   "cell_type": "markdown",
   "id": "eed9c547",
   "metadata": {},
   "source": [
    "# Vectors\n",
    "\n",
    "# What are Vectors"
   ]
  },
  {
   "cell_type": "markdown",
   "id": "d97fee2e",
   "metadata": {},
   "source": [
    "Vectors are fundamental entities in mathematics and physics, characterized by having both magnitude and direction. Unlike scalars, which are defined by only a magnitude, vectors provide a way to convey both the size and the direction of a quantity.\n"
   ]
  },
  {
   "cell_type": "code",
   "execution_count": 4,
   "id": "ec24afe1",
   "metadata": {},
   "outputs": [
    {
     "name": "stdout",
     "output_type": "stream",
     "text": [
      "Vestor [3 4]\n",
      "Megnitude 5.0\n"
     ]
    }
   ],
   "source": [
    "import numpy as np\n",
    "\n",
    "v = np.array([3,4])\n",
    "\n",
    "print(f'Vestor {v}')\n",
    "\n",
    "megnitude = np.linalg.norm(v)\n",
    "\n",
    "print(f'Megnitude {megnitude}')"
   ]
  },
  {
   "cell_type": "markdown",
   "id": "a058d47d",
   "metadata": {},
   "source": [
    "# Row Vector"
   ]
  },
  {
   "cell_type": "markdown",
   "id": "dd753543",
   "metadata": {},
   "source": [
    "A row vector is a 1 x n matrix, which means it has one row and multiple columns. It's essentially a horizontal array of numbers."
   ]
  },
  {
   "cell_type": "markdown",
   "id": "50a8bd33",
   "metadata": {},
   "source": [
    "<p>\n",
    "  \\( \\textbf{a} = \\begin{bmatrix} a_1 & a_2 & \\cdots & a_n \\end{bmatrix} \\)\n",
    "</p>\n"
   ]
  },
  {
   "cell_type": "code",
   "execution_count": 5,
   "id": "1682d33d",
   "metadata": {},
   "outputs": [
    {
     "name": "stdout",
     "output_type": "stream",
     "text": [
      "Row vector [1 2 3]\n"
     ]
    }
   ],
   "source": [
    "row_vector = np.array([1,2,3])\n",
    "print(f'Row vector {row_vector}')"
   ]
  },
  {
   "cell_type": "markdown",
   "id": "6112501b",
   "metadata": {},
   "source": [
    "# Column Vector"
   ]
  },
  {
   "cell_type": "markdown",
   "id": "1e4f349b",
   "metadata": {},
   "source": [
    "A column vector is an n x 1 matrix, meaning it has one column and multiple rows. It's a vertical array of numbers."
   ]
  },
  {
   "cell_type": "markdown",
   "id": "828d8a30",
   "metadata": {},
   "source": [
    "<p>\n",
    "  \\( \\mathbf{b} = \\begin{bmatrix} b_1 \\\\ b_2 \\\\ \\vdots \\\\ b_n \\end{bmatrix} \\)\n",
    "</p>\n"
   ]
  },
  {
   "cell_type": "code",
   "execution_count": 7,
   "id": "47189d3f",
   "metadata": {},
   "outputs": [
    {
     "name": "stdout",
     "output_type": "stream",
     "text": [
      "Column vector [[1]\n",
      " [2]\n",
      " [3]]\n"
     ]
    }
   ],
   "source": [
    "column_vector = np.array([[1],[2],[3]])\n",
    "print(f'Column vector {column_vector}')"
   ]
  },
  {
   "cell_type": "markdown",
   "id": "71d866b5",
   "metadata": {},
   "source": [
    "# Distance from Origin"
   ]
  },
  {
   "cell_type": "markdown",
   "id": "15eccb08",
   "metadata": {},
   "source": [
    "The distance from the origin to a point in space is the length of the vector that represents the position of that point relative to the origin. In Cartesian coordinates, the origin is typically represented as the point (0, 0) in 2D space or (0, 0, 0) in 3D space."
   ]
  },
  {
   "cell_type": "markdown",
   "id": "23589714",
   "metadata": {},
   "source": [
    "<script type=\"text/javascript\" async\n",
    "  src=\"https://cdnjs.cloudflare.com/ajax/libs/mathjax/2.7.7/MathJax.js?config=TeX-MML-AM_CHTML\">\n",
    "</script>\n",
    "\n",
    "<p>\n",
    "  In 2D: \\( d = \\sqrt{x^2 + y^2} \\)\n",
    "</p>\n",
    "\n",
    "<p>\n",
    "  In 3D: \\( d = \\sqrt{x^2 + y^2 + z^2} \\)\n",
    "</p>\n"
   ]
  },
  {
   "cell_type": "code",
   "execution_count": 12,
   "id": "ac235895",
   "metadata": {},
   "outputs": [
    {
     "name": "stdout",
     "output_type": "stream",
     "text": [
      "distance is 2.23606797749979\n"
     ]
    }
   ],
   "source": [
    "# 2d\n",
    "import numpy as np\n",
    "\n",
    "twodspace =np.array([1,2])\n",
    "\n",
    "distance = np.linalg.norm(twodspace)\n",
    "\n",
    "print(f'distance is {distance}')"
   ]
  },
  {
   "cell_type": "code",
   "execution_count": 14,
   "id": "b03ce444",
   "metadata": {},
   "outputs": [
    {
     "data": {
      "text/plain": [
       "2.23606797749979"
      ]
     },
     "execution_count": 14,
     "metadata": {},
     "output_type": "execute_result"
    }
   ],
   "source": [
    "\n",
    "x= 1**1\n",
    "b= 2**2\n",
    "\n",
    "y= x+b\n",
    "\n",
    "np.sqrt(y)"
   ]
  },
  {
   "cell_type": "code",
   "execution_count": 15,
   "id": "6815b7f9",
   "metadata": {},
   "outputs": [
    {
     "name": "stdout",
     "output_type": "stream",
     "text": [
      "distance 3.7416573867739413\n"
     ]
    }
   ],
   "source": [
    "# 3d\n",
    "\n",
    "threedspace =  np.array([1,2,3])\n",
    "\n",
    "distance = np.linalg.norm(threedspace)\n",
    "\n",
    "print(f'distance {distance}')"
   ]
  },
  {
   "cell_type": "markdown",
   "id": "058a3d87",
   "metadata": {},
   "source": [
    "# Euclidean Distance between 2 vectors"
   ]
  },
  {
   "cell_type": "markdown",
   "id": "c467eb8f",
   "metadata": {},
   "source": [
    "The Euclidean distance between two vectors represents the \"straight-line\" distance between them in a multi-dimensional space. It's the most common way of determining the distance between two points or vectors."
   ]
  },
  {
   "cell_type": "markdown",
   "id": "cdd17dba",
   "metadata": {},
   "source": [
    "<!DOCTYPE html>\n",
    "<html>\n",
    "<head>\n",
    "  <script type=\"text/javascript\" async\n",
    "    src=\"https://cdnjs.cloudflare.com/ajax/libs/mathjax/2.7.7/MathJax.js?config=TeX-MML-AM_CHTML\">\n",
    "  </script>\n",
    "</head>\n",
    "<body>\n",
    "  <p>Euclidean Distance between two vectors \\( \\mathbf{a} \\) and \\( \\mathbf{b} \\) in n-dimensional space is given by:</p>\n",
    "  <p>\\( d(\\mathbf{a}, \\mathbf{b}) = \\sqrt{(a_1 - b_1)^2 + (a_2 - b_2)^2 + \\cdots + (a_n - b_n)^2} \\)</p>\n",
    "</body>\n",
    "</html>\n"
   ]
  },
  {
   "cell_type": "code",
   "execution_count": 17,
   "id": "73e55148",
   "metadata": {},
   "outputs": [
    {
     "name": "stdout",
     "output_type": "stream",
     "text": [
      " Distance 5.0\n"
     ]
    }
   ],
   "source": [
    "import numpy as np\n",
    "\n",
    "p1 = np.array([1,2])\n",
    "p2 = np.array([4,6])\n",
    "\n",
    "eucil_dis = np.linalg.norm(p2-p1)\n",
    "\n",
    "print(f' Distance {eucil_dis}')"
   ]
  },
  {
   "cell_type": "code",
   "execution_count": 28,
   "id": "5b9d85e6",
   "metadata": {},
   "outputs": [
    {
     "name": "stdout",
     "output_type": "stream",
     "text": [
      " Distance 7.0710678118654755\n"
     ]
    }
   ],
   "source": [
    "P1 = np.array([1, 2, 3])\n",
    "P2 = np.array([4, 6, 8])\n",
    "\n",
    "eucil_dis = np.linalg.norm(P2 - P1)\n",
    "print(f' Distance {eucil_dis}')"
   ]
  },
  {
   "cell_type": "markdown",
   "id": "01aa98da",
   "metadata": {},
   "source": [
    "# Scalar Vector Addition/Subtraction(Shifting)"
   ]
  },
  {
   "cell_type": "markdown",
   "id": "0b4b1736",
   "metadata": {},
   "source": [
    "Scalar-vector addition (or subtraction) is not the same as adding or subtracting two vectors. Instead, when you add or subtract a scalar to a vector, you're essentially performing a shift or translation of the vector in space, not altering its direction or magnitude in the way vector addition or subtraction would."
   ]
  },
  {
   "cell_type": "markdown",
   "id": "28ae65d2",
   "metadata": {},
   "source": [
    "<script type=\"text/javascript\" async\n",
    "  src=\"https://cdnjs.cloudflare.com/ajax/libs/mathjax/2.7.7/MathJax.js?config=TeX-MML-AM_CHTML\">\n",
    "</script>\n",
    "\n",
    "<p>Scalar-Vector Addition: Adding a scalar \\( k \\) to a vector \\( \\mathbf{v} = (v_1, v_2, \\ldots, v_n) \\) is represented as:</p>\n",
    "<p>\\( \\mathbf{v} + k = (v_1 + k, v_2 + k, \\ldots, v_n + k) \\)</p>\n",
    "\n",
    "<p>Scalar-Vector Subtraction: Subtracting a scalar \\( k \\) from a vector \\( \\mathbf{v} = (v_1, v_2, \\ldots, v_n) \\) is represented as:</p>\n",
    "<p>\\( \\mathbf{v} - k = (v_1 - k, v_2 - k, \\ldots, v_n - k) \\)</p>\n"
   ]
  },
  {
   "cell_type": "code",
   "execution_count": 29,
   "id": "b8bba525",
   "metadata": {},
   "outputs": [
    {
     "name": "stdout",
     "output_type": "stream",
     "text": [
      "Scalar vector addition [6 7]\n",
      "Scalar vector subtraction [-4 -3]\n"
     ]
    }
   ],
   "source": [
    "import numpy as np\n",
    "\n",
    "vec = np.array([1,2])\n",
    "scal = 5\n",
    "\n",
    "\n",
    "add = vec +scal\n",
    "sub = vec -scal\n",
    "\n",
    "print(f'Scalar vector addition {add}')\n",
    "print(f'Scalar vector subtraction {sub}')"
   ]
  },
  {
   "cell_type": "markdown",
   "id": "247788cd",
   "metadata": {},
   "source": [
    "# Scalar Vector Multiplication/Division(Scaling)"
   ]
  },
  {
   "cell_type": "markdown",
   "id": "75bb58c2",
   "metadata": {},
   "source": [
    "Scalar multiplication and division involve scaling a vector by a scalar, affecting the vector's magnitude but not its direction (except for a direction change in the case of negative scalar multiplication). These operations are fundamental in linear algebra and vector calculus, providing a way to resize vectors without altering their directional properties."
   ]
  },
  {
   "cell_type": "markdown",
   "id": "14e36554",
   "metadata": {},
   "source": [
    "<!DOCTYPE html>\n",
    "<html>\n",
    "<head>\n",
    "  <script type=\"text/javascript\" async\n",
    "    src=\"https://cdnjs.cloudflare.com/ajax/libs/mathjax/2.7.7/MathJax.js?config=TeX-MML-AM_CHTML\">\n",
    "  </script>\n",
    "</head>\n",
    "<body>\n",
    "  <p>Scalar-Vector Multiplication (Scaling): For a scalar \\( c \\) and a vector \\( \\mathbf{v} = \\begin{bmatrix} v_1 \\\\ v_2 \\\\ \\vdots \\\\ v_n \\end{bmatrix} \\), the multiplication is defined as:</p>\n",
    "  <p>\\( c \\mathbf{v} = c \\begin{bmatrix} v_1 \\\\ v_2 \\\\ \\vdots \\\\ v_n \\end{bmatrix} = \\begin{bmatrix} c v_1 \\\\ c v_2 \\\\ \\vdots \\\\ c v_n \\end{bmatrix} \\)</p>\n",
    "\n",
    "  <p>Scalar-Vector Division (Scaling): For a scalar \\( c \\) and a vector \\( \\mathbf{v} \\), the division (assuming \\( c \\neq 0 \\)) is defined as:</p>\n",
    "  <p>\\( \\frac{\\mathbf{v}}{c} = \\frac{1}{c} \\begin{bmatrix} v_1 \\\\ v_2 \\\\ \\vdots \\\\ v_n \\end{bmatrix} = \\begin{bmatrix} \\frac{v_1}{c} \\\\ \\frac{v_2}{c} \\\\ \\vdots \\\\ \\frac{v_n}{c} \\end{bmatrix} \\)</p>\n",
    "</body>\n",
    "</html>\n"
   ]
  },
  {
   "cell_type": "code",
   "execution_count": 30,
   "id": "7de7a48d",
   "metadata": {},
   "outputs": [
    {
     "name": "stdout",
     "output_type": "stream",
     "text": [
      "Scalar vector multiplication [2 4]\n",
      "Scalar vector division [0.5 1. ]\n"
     ]
    }
   ],
   "source": [
    "import numpy as np\n",
    "\n",
    "vec = np.array([1,2])\n",
    "scal = 2\n",
    "\n",
    "mul = vec * scal\n",
    "div =vec / scal\n",
    "\n",
    "print(f'Scalar vector multiplication {mul}')\n",
    "print(f'Scalar vector division {div}')"
   ]
  },
  {
   "cell_type": "markdown",
   "id": "e3a56821",
   "metadata": {},
   "source": [
    "# Vector Vector Addition/Subtraction"
   ]
  },
  {
   "cell_type": "markdown",
   "id": "2b1bb120",
   "metadata": {},
   "source": [
    "Vector addition and subtraction are operations where two vectors of the same dimension are added or subtracted component-wise. These operations are crucial in fields like physics and engineering, where they're often used to combine forces, velocities, or other vector quantities."
   ]
  },
  {
   "cell_type": "markdown",
   "id": "58fbf0e2",
   "metadata": {},
   "source": [
    "<!DOCTYPE html>\n",
    "<html>\n",
    "<head>\n",
    "  <script type=\"text/javascript\" async\n",
    "    src=\"https://cdnjs.cloudflare.com/ajax/libs/mathjax/2.7.7/MathJax.js?config=TeX-MML-AM_CHTML\">\n",
    "  </script>\n",
    "</head>\n",
    "<body>\n",
    "  <p>Vector-Vector Addition: For vectors \\( \\mathbf{a} = \\begin{bmatrix} a_1 \\\\ a_2 \\\\ \\vdots \\\\ a_n \\end{bmatrix} \\) and \\( \\mathbf{b} = \\begin{bmatrix} b_1 \\\\ b_2 \\\\ \\vdots \\\\ b_n \\end{bmatrix} \\), the addition is defined as:</p>\n",
    "  <p>\\( \\mathbf{a} + \\mathbf{b} = \\begin{bmatrix} a_1 + b_1 \\\\ a_2 + b_2 \\\\ \\vdots \\\\ a_n + b_n \\end{bmatrix} \\)</p>\n",
    "\n",
    "  <p>Vector-Vector Subtraction: For the same vectors \\( \\mathbf{a} \\) and \\( \\mathbf{b} \\), the subtraction is defined as:</p>\n",
    "  <p>\\( \\mathbf{a} - \\mathbf{b} = \\begin{bmatrix} a_1 - b_1 \\\\ a_2 - b_2 \\\\ \\vdots \\\\ a_n - b_n \\end{bmatrix} \\)</p>\n",
    "</body>\n",
    "</html>\n"
   ]
  },
  {
   "cell_type": "code",
   "execution_count": 33,
   "id": "9a21755b",
   "metadata": {},
   "outputs": [
    {
     "name": "stdout",
     "output_type": "stream",
     "text": [
      "Vector vector addition [4 6]\n",
      "Vecotr vector suntration [-2 -2]\n"
     ]
    }
   ],
   "source": [
    "import numpy as np\n",
    "\n",
    "vec1 = np.array([1,2])\n",
    "vec2 = np.array([3,4])\n",
    "\n",
    "add = vec1+vec2\n",
    "sub = vec1-vec2\n",
    "\n",
    "print(f'Vector vector addition {add}')\n",
    "print(f'Vecotr vector suntration {sub}')"
   ]
  },
  {
   "cell_type": "markdown",
   "id": "8aaac996",
   "metadata": {},
   "source": [
    "# Dot Product of 2 vectors"
   ]
  },
  {
   "cell_type": "markdown",
   "id": "e019b110",
   "metadata": {},
   "source": [
    "The dot product (also known as the scalar product) is a fundamental operation in vector algebra, yielding a scalar from two vectors. It provides a measure of the vectors' magnitude and the cosine of the angle between them, playing a crucial role in various mathematical and physical contexts."
   ]
  },
  {
   "cell_type": "markdown",
   "id": "4234e1ae",
   "metadata": {},
   "source": [
    "<!DOCTYPE html>\n",
    "<html>\n",
    "<head>\n",
    "  <script type=\"text/javascript\" async\n",
    "    src=\"https://cdnjs.cloudflare.com/ajax/libs/mathjax/2.7.7/MathJax.js?config=TeX-MML-AM_CHTML\">\n",
    "  </script>\n",
    "</head>\n",
    "<body>\n",
    "  <p>Dot Product of two vectors \\( \\mathbf{a} = \\begin{bmatrix} a_1 \\\\ a_2 \\\\ \\vdots \\\\ a_n \\end{bmatrix} \\) and \\( \\mathbf{b} = \\begin{bmatrix} b_1 \\\\ b_2 \\\\ \\vdots \\\\ b_n \\end{bmatrix} \\) is defined as:</p>\n",
    "  <p>\\( \\mathbf{a} \\cdot \\mathbf{b} = a_1b_1 + a_2b_2 + \\cdots + a_nb_n \\)</p>\n",
    "</body>\n",
    "</html>\n"
   ]
  },
  {
   "cell_type": "code",
   "execution_count": 35,
   "id": "859bfe33",
   "metadata": {},
   "outputs": [
    {
     "name": "stdout",
     "output_type": "stream",
     "text": [
      "Dot product is 11\n",
      "Dot product 2 is 11\n"
     ]
    }
   ],
   "source": [
    "import numpy as np\n",
    "\n",
    "vec1 = np.array([1,2])\n",
    "vec2 = np.array([3,4])\n",
    "\n",
    "dot = np.dot(vec1,vec2)\n",
    "\n",
    "dot2 = vec1@vec2\n",
    "\n",
    "print(f'Dot product is {dot}')\n",
    "print(f'Dot product 2 is {dot2}')"
   ]
  },
  {
   "cell_type": "code",
   "execution_count": 36,
   "id": "69cf9284",
   "metadata": {},
   "outputs": [
    {
     "data": {
      "image/png": "[encoded data removed]",
      "text/plain": [
       "<Figure size 600x600 with 1 Axes>"
      ]
     },
     "metadata": {},
     "output_type": "display_data"
    }
   ],
   "source": [
    "import numpy as np\n",
    "import matplotlib.pyplot as plt\n",
    "\n",
    "# Define vectors a and b\n",
    "a = np.array([3, 2])\n",
    "b = np.array([1, 4])\n",
    "\n",
    "# Compute the dot product\n",
    "dot_product = np.dot(a, b)\n",
    "\n",
    "# Compute the projection of a onto b\n",
    "# proj_a_b = (dot_product / np.linalg.norm(b)**2) * b\n",
    "proj_a_b = (dot_product / np.dot(b, b)) * b\n",
    "\n",
    "# Plotting\n",
    "plt.figure(figsize=(6, 6))\n",
    "plt.quiver(0, 0, a[0], a[1], angles='xy', scale_units='xy', scale=1, color='r', label='a [3, 2]')\n",
    "plt.quiver(0, 0, b[0], b[1], angles='xy', scale_units='xy', scale=1, color='b', label='b [1, 4]')\n",
    "plt.quiver(0, 0, proj_a_b[0], proj_a_b[1], angles='xy', scale_units='xy', scale=1, color='g', label='Projection of a onto b')\n",
    "\n",
    "# Setting the limits and labels\n",
    "plt.xlim(-1, 5)\n",
    "plt.ylim(-1, 5)\n",
    "plt.axhline(0, color='black',linewidth=0.5)\n",
    "plt.axvline(0, color='black',linewidth=0.5)\n",
    "plt.grid(color = 'gray', linestyle = '--', linewidth = 0.5)\n",
    "plt.legend()\n",
    "plt.show()"
   ]
  },
  {
   "cell_type": "markdown",
   "id": "e789ce24",
   "metadata": {},
   "source": [
    "# Unit Vectors"
   ]
  },
  {
   "cell_type": "markdown",
   "id": "66e52c96",
   "metadata": {},
   "source": [
    "Unit vectors are vectors with a magnitude of 1. They are used to indicate direction in space without specifying magnitude."
   ]
  },
  {
   "cell_type": "markdown",
   "id": "47a10f7a",
   "metadata": {},
   "source": [
    "<p>The unit vector <b>&#94;v</b> of a vector <b>v</b> is given by:</p>\n",
    "<p><b>&#94;v</b> = (1 / ||<b>v</b>||) * <b>v</b> = (v<sub>1</sub> / &radic;(v<sub>1</sub><sup>2</sup> + v<sub>2</sub><sup>2</sup> + v<sub>3</sub><sup>2</sup>), v<sub>2</sub> / &radic;(v<sub>1</sub><sup>2</sup> + v<sub>2</sub><sup>2</sup> + v<sub>3</sub><sup>2</sup>), v<sub>3</sub> / &radic;(v<sub>1</sub><sup>2</sup> + v<sub>2</sub><sup>2</sup> + v<sub>3</sub><sup>2</sup>))</p>\n"
   ]
  },
  {
   "cell_type": "code",
   "execution_count": 39,
   "id": "eb0cb27b",
   "metadata": {},
   "outputs": [
    {
     "name": "stdout",
     "output_type": "stream",
     "text": [
      "Unit vector is [0.8 0.6 0. ]\n"
     ]
    }
   ],
   "source": [
    "import numpy as np\n",
    "\n",
    "vector = np.array([4,3,0])\n",
    "\n",
    "megnitude = np.linalg.norm(vector)\n",
    "\n",
    "unitvec= vector / megnitude\n",
    "\n",
    "print(f'Unit vector is {unitvec}')"
   ]
  },
  {
   "cell_type": "markdown",
   "id": "f6ea800c",
   "metadata": {},
   "source": [
    "# Projection of a Vector"
   ]
  },
  {
   "cell_type": "markdown",
   "id": "c6fe121b",
   "metadata": {},
   "source": [
    "The projection of one vector onto another is a way to break down a vector into components parallel and perpendicular to the second vector. When you project vector a onto vector b, you get a new vector that is the component of a in the direction of b"
   ]
  },
  {
   "cell_type": "markdown",
   "id": "18935143",
   "metadata": {},
   "source": [
    "<p>The projection of vector <b>a</b> onto vector <b>b</b> is given by:</p>\n",
    "<p><i>proj<sub>b</sub>(a)</i> = ( (a &middot; b) / (b &middot; b) ) b</p>\n"
   ]
  },
  {
   "cell_type": "code",
   "execution_count": 45,
   "id": "0072ec9b",
   "metadata": {},
   "outputs": [
    {
     "name": "stdout",
     "output_type": "stream",
     "text": [
      "Proection pf vector [2. 0.]\n"
     ]
    }
   ],
   "source": [
    "import numpy as np\n",
    "\n",
    "vec1 = np.array([2,3])\n",
    "vec2 = np.array([4,0])\n",
    "\n",
    "dot_product = np.dot(vec1,vec2)\n",
    "\n",
    "\n",
    "proj_vec = (dot_product /np.dot(vec2,vec2))*vec2\n",
    "\n",
    "print(f'Proection pf vector {proj_vec}')"
   ]
  },
  {
   "cell_type": "markdown",
   "id": "77570fed",
   "metadata": {},
   "source": [
    "# Basis Vectors "
   ]
  },
  {
   "cell_type": "markdown",
   "id": "218e207d",
   "metadata": {},
   "source": [
    "Basis vectors are a set of vectors in a vector space that, when linearly combined, can represent any vector in that space. In a 2D space, you typically have two basis vectors, and in 3D space, you have three, and so on. The most common basis vectors in Cartesian coordinate systems are the unit vectors along the coordinate axes."
   ]
  },
  {
   "cell_type": "markdown",
   "id": "8b8d6a7c",
   "metadata": {},
   "source": [
    "<p>In 2D space, any vector <b>v</b> can be represented as:</p>\n",
    "<p><b>v</b> = v<sub>1</sub> <b>i</b> + v<sub>2</sub> <b>j</b></p>\n",
    "\n",
    "<p>In 3D space, any vector <b>v</b> can be represented as:</p>\n",
    "<p><b>v</b> = v<sub>1</sub> <b>i</b> + v<sub>2</sub> <b>j</b> + v<sub>3</sub> <b>k</b></p>\n"
   ]
  },
  {
   "cell_type": "code",
   "execution_count": 48,
   "id": "3cb13cb5",
   "metadata": {},
   "outputs": [
    {
     "name": "stdout",
     "output_type": "stream",
     "text": [
      "Vector [3 4]\n"
     ]
    }
   ],
   "source": [
    "import numpy as np\n",
    "\n",
    "i= np.array([1,0])\n",
    "j= np.array([0,1])\n",
    "\n",
    "v = 3* i +4*j\n",
    "\n",
    "print(f'Vector {v}')"
   ]
  },
  {
   "cell_type": "markdown",
   "id": "6c6c5c40",
   "metadata": {},
   "source": [
    "# Equation of a Line in n-D"
   ]
  },
  {
   "cell_type": "markdown",
   "id": "a4ecd94f",
   "metadata": {},
   "source": [
    "The equation of a line in ann-dimensional space can be generalized using vector notation. In 2D or 3D, we often use specific forms like the slope-intercept form or parametric equations. For n-dimensional space, we typically use a vector equation or parametric equations to define a line."
   ]
  },
  {
   "cell_type": "markdown",
   "id": "c26527f6",
   "metadata": {},
   "source": [
    "<p>For a line in n-dimensional space passing through point P with coordinates (p<sub>1</sub>, p<sub>2</sub>, ..., p<sub>n</sub>) and direction vector <b>d</b> = (d<sub>1</sub>, d<sub>2</sub>, ..., d<sub>n</sub>), any point <b>R</b> on the line can be represented as:</p>\n",
    "<p><b>R</b> = <b>P</b> + t<b>d</b></p>\n",
    "<p>Where t is a scalar parameter.</p>\n"
   ]
  },
  {
   "cell_type": "code",
   "execution_count": 52,
   "id": "8ea09e6b",
   "metadata": {},
   "outputs": [
    {
     "name": "stdout",
     "output_type": "stream",
     "text": [
      "Point R on the line for t = 2 is: [ 9 12 15]\n"
     ]
    }
   ],
   "source": [
    "import numpy as np\n",
    "\n",
    "\n",
    "p = np.array([1,2,3])\n",
    "d= np.array([4,5,6])\n",
    "\n",
    "t= 2\n",
    "\n",
    "r= p +t*d\n",
    "\n",
    "print(f\"Point R on the line for t = {t} is: {r}\")"
   ]
  },
  {
   "cell_type": "markdown",
   "id": "0d9dc8a4",
   "metadata": {},
   "source": [
    "# Vector Norms"
   ]
  },
  {
   "cell_type": "markdown",
   "id": "9c9aa525",
   "metadata": {},
   "source": [
    "Vector norms are functions that assign a strictly positive length or size to each vector in a vector space, except for the zero vector, which is assigned a length of zero. They are essential in various fields of mathematics and engineering for measuring the magnitude or size of vectors. The Lp norm (or p-norm) is a common way to define such a measure, and it generalizes several useful concepts of length."
   ]
  },
  {
   "cell_type": "markdown",
   "id": "3e4d8263",
   "metadata": {},
   "source": [
    "<p><strong>L<sup>1</sup> Norm (Manhattan Norm):</strong></p>\n",
    "<p>&#124;x&#124;<sub>1</sub> = &#124;x<sub>1</sub>&#124; + &#124;x<sub>2</sub>&#124; + ... + &#124;x<sub>n</sub>&#124;</p>\n",
    "\n",
    "<p><strong>L<sup>2</sup> Norm (Euclidean Norm):</strong></p>\n",
    "<p>&#124;x&#124;<sub>2</sub> = &radic;(x<sub>1</sub><sup>2</sup> + x<sub>2</sub><sup>2</sup> + ... + x<sub>n</sub><sup>2</sup>)</p>\n",
    "\n",
    "<p><strong>L<sup>&infin;</sup> Norm (Maximum Norm):</strong></p>\n",
    "<p>&#124;x&#124;<sub>&infin;</sub> = max(&#124;x<sub>1</sub>&#124;, &#124;x<sub>2</sub>&#124;, ..., &#124;x<sub>n</sub>&#124;)</p>\n"
   ]
  },
  {
   "cell_type": "code",
   "execution_count": 54,
   "id": "520d0a88",
   "metadata": {},
   "outputs": [
    {
     "name": "stdout",
     "output_type": "stream",
     "text": [
      "L1 norm 12.0\n",
      "L2 norm 7.0710678118654755\n",
      "L inifinte norm 5.0\n"
     ]
    }
   ],
   "source": [
    "import numpy as np\n",
    "\n",
    "x = np.array([3, -4, 5])\n",
    "\n",
    "l1norm = np.linalg.norm(x,1)\n",
    "\n",
    "l2norm =  np.linalg.norm(x)\n",
    "\n",
    "linfinorm  = np.linalg.norm(x,np.inf) \n",
    "\n",
    "print(f'L1 norm {l1norm}')\n",
    "print(f'L2 norm {l2norm}')\n",
    "print(f'L inifinte norm {linfinorm}')"
   ]
  },
  {
   "cell_type": "markdown",
   "id": "94348590",
   "metadata": {},
   "source": [
    "# Linear Independence"
   ]
  },
  {
   "cell_type": "markdown",
   "id": "b9b1619b",
   "metadata": {},
   "source": [
    "Linear independence is a crucial concept in linear algebra that determines whether a set of vectors can be expressed in terms of each other. A set of vectors is considered linearly independent if no vector in the set can be written as a linear combination of the others."
   ]
  },
  {
   "cell_type": "markdown",
   "id": "565d4899",
   "metadata": {},
   "source": [
    "<p>A set of vectors {<b>v</b><sub>1</sub>, <b>v</b><sub>2</sub>, ..., <b>v</b><sub>n</sub>} is linearly independent if the only solution to the equation</p>\n",
    "<p>c<sub>1</sub><b>v</b><sub>1</sub> + c<sub>2</sub><b>v</b><sub>2</sub> + ... + c<sub>n</sub><b>v</b><sub>n</sub> = <b>0</b></p>\n",
    "<p>is c<sub>1</sub> = c<sub>2</sub> = ... = c<sub>n</sub> = 0.</p>\n"
   ]
  },
  {
   "cell_type": "code",
   "execution_count": 66,
   "id": "19644b7d",
   "metadata": {},
   "outputs": [
    {
     "name": "stdout",
     "output_type": "stream",
     "text": [
      "[[1 0 0]\n",
      " [0 1 0]\n",
      " [0 0 1]]\n",
      "1.0\n",
      "Liner independent\n"
     ]
    }
   ],
   "source": [
    "import numpy as np\n",
    "\n",
    "v1 = np.array([1,0,0])\n",
    "v2 = np.array([0,1,0])\n",
    "v3 = np.array([0,0,1])\n",
    "\n",
    "a= np.column_stack((v1,v2,v3))\n",
    "\n",
    "print(a)\n",
    "print(np.linalg.det(a))\n",
    "\n",
    "if np.linalg.det(a) != 0:\n",
    "    print('Liner independent')\n",
    "else:\n",
    "    print('liner dependent')"
   ]
  },
  {
   "cell_type": "markdown",
   "id": "ab6b5608",
   "metadata": {},
   "source": [
    "# Matrices\n",
    "\n",
    "# What are Matrices?"
   ]
  },
  {
   "cell_type": "markdown",
   "id": "994f86aa",
   "metadata": {},
   "source": [
    "Matrices are structured collections of numbers arranged in rows and columns, forming a rectangular array. Each number in a matrix is called an element. The arrangement of numbers allows for organized data storage and efficient computation, particularly in solving systems of linear equations, performing transformations, and handling data in fields like computer graphics, engineering, and machine learning."
   ]
  },
  {
   "cell_type": "markdown",
   "id": "6127e04d",
   "metadata": {},
   "source": [
    "<!DOCTYPE html>\n",
    "<html>\n",
    "<head>\n",
    "  <script src=\"https://polyfill.io/v3/polyfill.min.js?features=es6\"></script>\n",
    "  <script id=\"MathJax-script\" async src=\"https://cdn.jsdelivr.net/npm/mathjax@3/es5/tex-mml-chtml.js\"></script>\n",
    "</head>\n",
    "<body>\n",
    "\n",
    "<p>Matrix A is represented as:</p>\n",
    "\n",
    "<p>\\[\n",
    "A =\n",
    "\\begin{bmatrix}\n",
    "a_{11} & a_{12} \\\\\n",
    "a_{21} & a_{22} \\\\\n",
    "\\end{bmatrix}\n",
    "\\]</p>\n",
    "\n",
    "</body>\n",
    "</html>\n"
   ]
  },
  {
   "cell_type": "code",
   "execution_count": 74,
   "id": "f7afd7ac",
   "metadata": {},
   "outputs": [
    {
     "name": "stdout",
     "output_type": "stream",
     "text": [
      "[[1 2]\n",
      " [3 4]]\n",
      "[[1 3]\n",
      " [2 4]]\n"
     ]
    }
   ],
   "source": [
    "import numpy as np\n",
    "\n",
    "mat =np.array([[1,2],[3,4]])\n",
    "\n",
    "print(mat)\n",
    "\n",
    "transpos = mat.T\n",
    "\n",
    "print(transpos)"
   ]
  },
  {
   "cell_type": "markdown",
   "id": "45a44162",
   "metadata": {},
   "source": [
    "# Types of Matrices "
   ]
  },
  {
   "cell_type": "markdown",
   "id": "9466262d",
   "metadata": {},
   "source": [
    "## 1. Square Matrix"
   ]
  },
  {
   "cell_type": "markdown",
   "id": "2dfd23da",
   "metadata": {},
   "source": [
    "A square matrix has the same number of rows and columns,n×n."
   ]
  },
  {
   "cell_type": "markdown",
   "id": "f9c154b2",
   "metadata": {},
   "source": [
    "<p>Square Matrix:</p>\n",
    "<p>\\[\n",
    "A = \\begin{bmatrix}\n",
    "a_{11} & a_{12} & \\ldots & a_{1n} \\\\\n",
    "a_{21} & a_{22} & \\ldots & a_{2n} \\\\\n",
    "\\vdots & \\vdots & \\ddots & \\vdots \\\\\n",
    "a_{n1} & a_{n2} & \\ldots & a_{nn}\n",
    "\\end{bmatrix}\n",
    "\\]</p>\n"
   ]
  },
  {
   "cell_type": "code",
   "execution_count": 75,
   "id": "e96252e5",
   "metadata": {},
   "outputs": [
    {
     "name": "stdout",
     "output_type": "stream",
     "text": [
      "Square matrix [[1 2]\n",
      " [3 4]]\n"
     ]
    }
   ],
   "source": [
    "import numpy as np\n",
    "\n",
    "sq_mat = np.array([[1,2],[3,4]])\n",
    "\n",
    "print(f'Square matrix {sq_mat}')"
   ]
  },
  {
   "cell_type": "markdown",
   "id": "9869cf54",
   "metadata": {},
   "source": [
    "## 2. Diagonal Matrix"
   ]
  },
  {
   "cell_type": "markdown",
   "id": "d76302a7",
   "metadata": {},
   "source": [
    "A diagonal matrix is a square matrix where all off-diagonal elements are zero."
   ]
  },
  {
   "cell_type": "markdown",
   "id": "903bc80c",
   "metadata": {},
   "source": [
    "<p>Diagonal Matrix:</p>\n",
    "<p>\\[\n",
    "D = \\begin{bmatrix}\n",
    "d_{11} & 0 & \\ldots & 0 \\\\\n",
    "0 & d_{22} & \\ldots & 0 \\\\\n",
    "\\vdots & \\vdots & \\ddots & \\vdots \\\\\n",
    "0 & 0 & \\ldots & d_{nn}\n",
    "\\end{bmatrix}\n",
    "\\]</p>\n"
   ]
  },
  {
   "cell_type": "code",
   "execution_count": 78,
   "id": "1f4d67f0",
   "metadata": {},
   "outputs": [
    {
     "name": "stdout",
     "output_type": "stream",
     "text": [
      "Diagonal matrix [[1 0 0]\n",
      " [0 2 0]\n",
      " [0 0 3]]\n"
     ]
    }
   ],
   "source": [
    "import numpy as np\n",
    "\n",
    "dia_mat =np.diag([1,2,3])\n",
    "\n",
    "print(f'Diagonal matrix {dia_mat}')"
   ]
  },
  {
   "cell_type": "markdown",
   "id": "8d4f9f06",
   "metadata": {},
   "source": [
    "## 3. Identity Matrix"
   ]
  },
  {
   "cell_type": "markdown",
   "id": "838d7c64",
   "metadata": {},
   "source": [
    "An identity matrix is a special diagonal matrix where all the elements on the main diagonal are 1."
   ]
  },
  {
   "cell_type": "markdown",
   "id": "bd13356d",
   "metadata": {},
   "source": [
    "<p>Identity Matrix:</p>\n",
    "<p>\\[\n",
    "I = \\begin{bmatrix}\n",
    "1 & 0 & \\ldots & 0 \\\\\n",
    "0 & 1 & \\ldots & 0 \\\\\n",
    "\\vdots & \\vdots & \\ddots & \\vdots \\\\\n",
    "0 & 0 & \\ldots & 1\n",
    "\\end{bmatrix}\n",
    "\\]</p>\n"
   ]
  },
  {
   "cell_type": "code",
   "execution_count": 79,
   "id": "89f973d2",
   "metadata": {},
   "outputs": [
    {
     "name": "stdout",
     "output_type": "stream",
     "text": [
      "Identity matrix [[1. 0. 0.]\n",
      " [0. 1. 0.]\n",
      " [0. 0. 1.]]\n"
     ]
    }
   ],
   "source": [
    "import numpy as np\n",
    "\n",
    "iden_mat = np.eye(3)\n",
    "\n",
    "print(f'Identity matrix {iden_mat}')"
   ]
  },
  {
   "cell_type": "markdown",
   "id": "cf433747",
   "metadata": {},
   "source": [
    "# Orthogonal Matrices"
   ]
  },
  {
   "cell_type": "markdown",
   "id": "3ab45ce7",
   "metadata": {},
   "source": [
    "<p>Orthogonal matrices are square matrices with a special property: their transpose is equal to their inverse. This means that if \\(Q\\) is an orthogonal matrix, then \\(Q^TQ = QQ^T = I\\), where \\(Q^T\\)is the transpose of \\(Q\\) and \\(I\\) is the identity matrix. This property implies that the columns (and rows) of an orthogonal matrix are orthonormal, meaning they are all at right angles to each other (orthogonal) and each have unit length (normal).</p>"
   ]
  },
  {
   "cell_type": "markdown",
   "id": "6cf98814",
   "metadata": {},
   "source": [
    "<p>For an orthogonal matrix <i>Q</i>:</p>\n",
    "<p>\\[\n",
    "Q^TQ = QQ^T = I\n",
    "\\]</p>\n"
   ]
  },
  {
   "cell_type": "code",
   "execution_count": 86,
   "id": "b2e11c7f",
   "metadata": {},
   "outputs": [
    {
     "name": "stdout",
     "output_type": "stream",
     "text": [
      "Matrix Q:\n",
      "[[ 1  0]\n",
      " [ 0 -1]]\n",
      "\n",
      "Matrix Q Transpose:\n",
      "[[ 1  0]\n",
      " [ 0 -1]]\n",
      "\n",
      "Q^T * Q:\n",
      "[[1 0]\n",
      " [0 1]]\n"
     ]
    }
   ],
   "source": [
    "import numpy as np\n",
    "\n",
    "Q = np.array([[1, 0], [0, -1]])\n",
    "\n",
    "transpos_Q = Q.T\n",
    "\n",
    "product = np.dot(transpos_Q,Q)\n",
    "\n",
    "\n",
    "print(\"Matrix Q:\")\n",
    "print(Q)\n",
    "\n",
    "print(\"\\nMatrix Q Transpose:\")\n",
    "print(transpos_Q)\n",
    "\n",
    "print(\"\\nQ^T * Q:\")\n",
    "print(product)\n"
   ]
  },
  {
   "cell_type": "markdown",
   "id": "b49ea78e",
   "metadata": {},
   "source": [
    "# Symmetric Matrices"
   ]
  },
  {
   "cell_type": "markdown",
   "id": "93025c5a",
   "metadata": {},
   "source": [
    "<p>Symmetric matrices are square matrices that are equal to their transpose. This means that for a symmetric matrix \\(A\\), the element in the \\({i}\\)th row and \\({j}\\)th column is the same as the element in the \\({j}\\)th row and \\({i}\\)th column, for all \\({i}\\) and \\({j}\\). Mathematically, this is expressed as \\(A = A^T\\).</p>"
   ]
  },
  {
   "cell_type": "markdown",
   "id": "29ffced2",
   "metadata": {},
   "source": [
    "<!DOCTYPE html>\n",
    "<html>\n",
    "<head>\n",
    "  <script src=\"https://polyfill.io/v3/polyfill.min.js?features=es6\"></script>\n",
    "  <script id=\"MathJax-script\" async src=\"https://cdn.jsdelivr.net/npm/mathjax@3/es5/tex-mml-chtml.js\"></script>\n",
    "</head>\n",
    "<body>\n",
    "\n",
    "<p>A matrix <i>A</i> is symmetric if:</p>\n",
    "<p>\\(A = A^T\\)</p>\n",
    "<p>In element-wise terms, this means \\(a_{ij} = a_{ji}\\) for all <i>i, j</i>.</p>\n",
    "\n",
    "</body>\n",
    "</html>\n"
   ]
  },
  {
   "cell_type": "code",
   "execution_count": 91,
   "id": "15578483",
   "metadata": {},
   "outputs": [
    {
     "name": "stdout",
     "output_type": "stream",
     "text": [
      "Matrix A:\n",
      "[[2 1 3]\n",
      " [1 3 2]\n",
      " [3 2 4]]\n",
      "\n",
      "Transpose of Matrix A:\n",
      "[[2 1 3]\n",
      " [1 3 2]\n",
      " [3 2 4]]\n",
      "\n",
      "Is A symmetric?: True\n"
     ]
    }
   ],
   "source": [
    "import numpy as np\n",
    "\n",
    "A = np.array([[2, 1, 3],\n",
    "              [1, 3, 2],\n",
    "              [3, 2, 4]])\n",
    "\n",
    "print(\"Matrix A:\")\n",
    "print(A)\n",
    "\n",
    "print(\"\\nTranspose of Matrix A:\")\n",
    "print(A.T)\n",
    "\n",
    "print(\"\\nIs A symmetric?:\", np.array_equal(A, A.T))"
   ]
  },
  {
   "cell_type": "markdown",
   "id": "dad94452",
   "metadata": {},
   "source": [
    "# Diagonal Matrices "
   ]
  },
  {
   "cell_type": "markdown",
   "id": "d132b82c",
   "metadata": {},
   "source": [
    "Diagonal matrices are a type of square matrix where all elements outside the main diagonal are zero. The main diagonal is the set of elements extending from the top left corner to the bottom right corner of the matrix."
   ]
  },
  {
   "cell_type": "markdown",
   "id": "3286a2ac",
   "metadata": {},
   "source": [
    "<!DOCTYPE html>\n",
    "<html>\n",
    "<head>\n",
    "  <script src=\"https://polyfill.io/v3/polyfill.min.js?features=es6\"></script>\n",
    "  <script id=\"MathJax-script\" async src=\"https://cdn.jsdelivr.net/npm/mathjax@3/es5/tex-mml-chtml.js\"></script>\n",
    "</head>\n",
    "<body>\n",
    "\n",
    "<p>A diagonal matrix <i>D</i> is defined as:</p>\n",
    "<p>\\[\n",
    "D = \\begin{bmatrix}\n",
    "d_{11} & 0 & \\cdots & 0 \\\\\n",
    "0 & d_{22} & \\cdots & 0 \\\\\n",
    "\\vdots & \\vdots & \\ddots & \\vdots \\\\\n",
    "0 & 0 & \\cdots & d_{nn}\n",
    "\\end{bmatrix}\n",
    "\\]</p>\n",
    "\n",
    "</body>\n",
    "</html>\n"
   ]
  },
  {
   "cell_type": "code",
   "execution_count": 94,
   "id": "4c3711c6",
   "metadata": {},
   "outputs": [
    {
     "name": "stdout",
     "output_type": "stream",
     "text": [
      "  Diagonal \n",
      " [[1 0 0 0 0]\n",
      " [0 2 0 0 0]\n",
      " [0 0 3 0 0]\n",
      " [0 0 0 4 0]\n",
      " [0 0 0 0 5]]\n"
     ]
    }
   ],
   "source": [
    "import numpy as np\n",
    "\n",
    "dia = np.diag([1,2,3,4,5])\n",
    "\n",
    "print(f'  Diagonal \\n {dia}')"
   ]
  },
  {
   "cell_type": "markdown",
   "id": "88f4913e",
   "metadata": {},
   "source": [
    "# Matrix equality"
   ]
  },
  {
   "cell_type": "markdown",
   "id": "be9ee7c7",
   "metadata": {},
   "source": [
    "<p>Matrix equality is a concept where two matrices are considered equal if they have the same dimensions and their corresponding elements are equal. In other words, for two matrices \\(A\\) and \\(B\\) to be equal, every element \\(a_{ij}\\) of \\(A\\) must be equal to the corresponding element \\(b_{ij}\\)of \\(B\\).</p>"
   ]
  },
  {
   "cell_type": "markdown",
   "id": "4a0a4268",
   "metadata": {},
   "source": [
    "<!DOCTYPE html>\n",
    "<html>\n",
    "<head>\n",
    "  <script src=\"https://polyfill.io/v3/polyfill.min.js?features=es6\"></script>\n",
    "  <script id=\"MathJax-script\" async src=\"https://cdn.jsdelivr.net/npm/mathjax@3/es5/tex-mml-chtml.js\"></script>\n",
    "</head>\n",
    "<body>\n",
    "\n",
    "<p>Two matrices <i>A</i> and <i>B</i> are equal (denoted as <i>A = B</i>) if they have the same dimensions and all their corresponding elements are equal:</p>\n",
    "<p>\\[\n",
    "A = B \\Leftrightarrow a_{ij} = b_{ij} \\text{ for all } i, j\n",
    "\\]</p>\n",
    "\n",
    "</body>\n",
    "</html>\n"
   ]
  },
  {
   "cell_type": "code",
   "execution_count": 96,
   "id": "ec970f81",
   "metadata": {},
   "outputs": [
    {
     "name": "stdout",
     "output_type": "stream",
     "text": [
      "Is A equal to B? True\n",
      "Is A equal to C? False\n"
     ]
    }
   ],
   "source": [
    "import numpy as np\n",
    "\n",
    "A = np.array([[1,2,3],[4,5,6]])\n",
    "B = np.array([[1,2,3],[4,5,6]])\n",
    "C = np.array([[3,2,1],[4,5,6]])\n",
    "\n",
    "print(\"Is A equal to B?\", np.array_equal(A, B))\n",
    "print(\"Is A equal to C?\", np.array_equal(A, C))"
   ]
  },
  {
   "cell_type": "markdown",
   "id": "e35772a3",
   "metadata": {},
   "source": [
    "# Scalar Operations on Matrices"
   ]
  },
  {
   "cell_type": "markdown",
   "id": "5db11a69",
   "metadata": {},
   "source": [
    "Scalar operations on matrices involve adding, subtracting, or multiplying every element of a matrix by a scalar (a single number). These operations are applied element-wise."
   ]
  },
  {
   "cell_type": "markdown",
   "id": "8bf11024",
   "metadata": {},
   "source": [
    "<!DOCTYPE html>\n",
    "<html>\n",
    "<head>\n",
    "  <script src=\"https://polyfill.io/v3/polyfill.min.js?features=es6\"></script>\n",
    "  <script id=\"MathJax-script\" async src=\"https://cdn.jsdelivr.net/npm/mathjax@3/es5/tex-mml-chtml.js\"></script>\n",
    "</head>\n",
    "<body>\n",
    "\n",
    "<p>Scalar addition and multiplication on a matrix <i>A</i>:</p>\n",
    "<p>Scalar Addition: \\(A + c\\)</p>\n",
    "<p>\\[\n",
    "\\begin{bmatrix}\n",
    "a_{11} + c & a_{12} + c & \\cdots & a_{1n} + c \\\\\n",
    "a_{21} + c & a_{22} + c & \\cdots & a_{2n} + c \\\\\n",
    "\\vdots & \\vdots & \\ddots & \\vdots \\\\\n",
    "a_{m1} + c & a_{m2} + c & \\cdots & a_{mn} + c\n",
    "\\end{bmatrix}\n",
    "\\]</p>\n",
    "\n",
    "<p>Scalar Multiplication: \\(cA\\)</p>\n",
    "<p>\\[\n",
    "\\begin{bmatrix}\n",
    "c \\times a_{11} & c \\times a_{12} & \\cdots & c \\times a_{1n} \\\\\n",
    "c \\times a_{21} & c \\times a_{22} & \\cdots & c \\times a_{2n} \\\\\n",
    "\\vdots & \\vdots & \\ddots & \\vdots \\\\\n",
    "c \\times a_{m1} & c \\times a_{m2} & \\cdots & c \\times a_{mn}\n",
    "\\end{bmatrix}\n",
    "\\]</p>\n",
    "\n",
    "</body>\n",
    "</html>\n"
   ]
  },
  {
   "cell_type": "code",
   "execution_count": 98,
   "id": "a7f2e674",
   "metadata": {},
   "outputs": [
    {
     "name": "stdout",
     "output_type": "stream",
     "text": [
      "Scalar addition to matrix [[4 5]\n",
      " [6 7]]\n",
      "Scalar multiplication to matrix [[ 4  6]\n",
      " [ 8 10]]\n"
     ]
    }
   ],
   "source": [
    "import numpy as np\n",
    "\n",
    "mat = np.array([[2,3],[4,5]])\n",
    "\n",
    "c = 2\n",
    "\n",
    "scal_add_mat = mat +c\n",
    "\n",
    "print(f'Scalar addition to matrix {scal_add_mat}')\n",
    "\n",
    "scal_mult_mat = mat * c \n",
    "\n",
    "print(f'Scalar multiplication to matrix {scal_mult_mat}')"
   ]
  },
  {
   "cell_type": "markdown",
   "id": "460f5124",
   "metadata": {},
   "source": [
    "# Matrix Addition and Subtraction"
   ]
  },
  {
   "cell_type": "markdown",
   "id": "0caa676f",
   "metadata": {},
   "source": [
    "Matrix addition and subtraction are operations where two matrices of the same dimensions are added or subtracted element-wise. That means each element of one matrix is added to or subtracted from the corresponding element of the other matrix."
   ]
  },
  {
   "cell_type": "markdown",
   "id": "97cc6092",
   "metadata": {},
   "source": [
    "<!DOCTYPE html>\n",
    "<html>\n",
    "<head>\n",
    "  <script src=\"https://polyfill.io/v3/polyfill.min.js?features=es6\"></script>\n",
    "  <script id=\"MathJax-script\" async src=\"https://cdn.jsdelivr.net/npm/mathjax@3/es5/tex-mml-chtml.js\"></script>\n",
    "</head>\n",
    "<body>\n",
    "\n",
    "<p>Matrix Addition: \\(A + B\\)</p>\n",
    "<p>\\[\n",
    "\\begin{bmatrix}\n",
    "a_{11} + b_{11} & a_{12} + b_{12} & \\cdots & a_{1n} + b_{1n} \\\\\n",
    "a_{21} + b_{21} & a_{22} + b_{22} & \\cdots & a_{2n} + b_{2n} \\\\\n",
    "\\vdots & \\vdots & \\ddots & \\vdots \\\\\n",
    "a_{m1} + b_{m1} & a_{m2} + b_{m2} & \\cdots & a_{mn} + b_{mn}\n",
    "\\end{bmatrix}\n",
    "\\]</p>\n",
    "\n",
    "<p>Matrix Subtraction: \\(A - B\\)</p>\n",
    "<p>\\[\n",
    "\\begin{bmatrix}\n",
    "a_{11} - b_{11} & a_{12} - b_{12} & \\cdots & a_{1n} - b_{1n} \\\\\n",
    "a_{21} - b_{21} & a_{22} - b_{22} & \\cdots & a_{2n} - b_{2n} \\\\\n",
    "\\vdots & \\vdots & \\ddots & \\vdots \\\\\n",
    "a_{m1} - b_{m1} & a_{m2} - b_{m2} & \\cdots & a_{mn} - b_{mn}\n",
    "\\end{bmatrix}\n",
    "\\]</p>\n",
    "\n",
    "</body>\n",
    "</html>\n"
   ]
  },
  {
   "cell_type": "code",
   "execution_count": 100,
   "id": "fa2ae8ec",
   "metadata": {},
   "outputs": [
    {
     "name": "stdout",
     "output_type": "stream",
     "text": [
      "Matrix addition \n",
      " [[ 8 10]\n",
      " [12 14]]\n",
      "Matrix subtraction \n",
      " [[-4 -4]\n",
      " [-4 -4]]\n"
     ]
    }
   ],
   "source": [
    "import numpy as np\n",
    "\n",
    "A = np.array([[2,3],[4,5]])\n",
    "B = np.array([[6,7],[8,9]])\n",
    "\n",
    "add = A+B\n",
    "\n",
    "print(f'Matrix addition \\n {add}')\n",
    "\n",
    "sub = A-B\n",
    "\n",
    "print(f'Matrix subtraction \\n {sub}')"
   ]
  },
  {
   "cell_type": "markdown",
   "id": "e6b70dd0",
   "metadata": {},
   "source": [
    "# Matrix Multiplication "
   ]
  },
  {
   "cell_type": "markdown",
   "id": "b76ae555",
   "metadata": {},
   "source": [
    "Matrix multiplication is a fundamental operation in linear algebra, allowing for the combination of two matrices to produce a third matrix. Unlike element-wise addition or subtraction, matrix multiplication involves a row-by-column dot product approach."
   ]
  },
  {
   "cell_type": "markdown",
   "id": "df2da33d",
   "metadata": {},
   "source": [
    "<!DOCTYPE html>\n",
    "<html>\n",
    "<head>\n",
    "  <script src=\"https://polyfill.io/v3/polyfill.min.js?features=es6\"></script>\n",
    "  <script id=\"MathJax-script\" async src=\"https://cdn.jsdelivr.net/npm/mathjax@3/es5/tex-mml-chtml.js\"></script>\n",
    "</head>\n",
    "<body>\n",
    "\n",
    "<p>For matrices <i>A</i> (size \\(m \\times n\\)) and <i>B</i> (size \\(n \\times p\\)), the matrix multiplication <i>AB = C</i> (size \\(m \\times p\\)) is defined as:</p>\n",
    "<p>\\(c_{ij} = \\sum_{k=1}^{n} a_{ik}b_{kj}\\)</p>\n",
    "\n",
    "</body>\n",
    "</html>\n"
   ]
  },
  {
   "cell_type": "code",
   "execution_count": 102,
   "id": "44a0fc84",
   "metadata": {},
   "outputs": [
    {
     "name": "stdout",
     "output_type": "stream",
     "text": [
      "Matrix multiplication \n",
      " [[36 41]\n",
      " [64 73]]\n",
      "Matrix multiplication \n",
      " [[36 41]\n",
      " [64 73]]\n"
     ]
    }
   ],
   "source": [
    "import numpy as np\n",
    "\n",
    "A = np.array([[2,3],[4,5]])\n",
    "B = np.array([[6,7],[8,9]])\n",
    "\n",
    "mul = A.dot(B)\n",
    "print(f'Matrix multiplication \\n {mul}')\n",
    "\n",
    "new_mul = A@B\n",
    "print(f'Matrix multiplication \\n {new_mul}')"
   ]
  },
  {
   "cell_type": "code",
   "execution_count": 105,
   "id": "01d9fbe7",
   "metadata": {},
   "outputs": [
    {
     "data": {
      "text/plain": [
       "65"
      ]
     },
     "execution_count": 105,
     "metadata": {},
     "output_type": "execute_result"
    }
   ],
   "source": []
  },
  {
   "cell_type": "code",
   "execution_count": null,
   "id": "7e451b1d",
   "metadata": {},
   "outputs": [],
   "source": []
  }
 ],
 "metadata": {
  "kernelspec": {
   "display_name": "Python 3 (ipykernel)",
   "language": "python",
   "name": "python3"
  },
  "language_info": {
   "codemirror_mode": {
    "name": "ipython",
    "version": 3
   },
   "file_extension": ".py",
   "mimetype": "text/x-python",
   "name": "python",
   "nbconvert_exporter": "python",
   "pygments_lexer": "ipython3",
   "version": "3.11.5"
  }
 },
 "nbformat": 4,
 "nbformat_minor": 5
}
